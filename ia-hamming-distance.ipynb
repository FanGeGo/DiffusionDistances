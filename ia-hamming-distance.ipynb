{
 "cells": [
  {
   "cell_type": "code",
   "execution_count": 8,
   "metadata": {},
   "outputs": [],
   "source": [
    "import csv\n",
    "import os\n",
    "from functools import partial\n",
    "import json\n",
    "\n",
    "import geopandas as gpd\n",
    "import pandas as pd\n",
    "import matplotlib.pyplot as plt\n",
    "import numpy as np\n",
    "\n",
    "from mpl_toolkits.mplot3d import Axes3D\n",
    "\n",
    "from gerrychain import (\n",
    "    Election,\n",
    "    Graph,\n",
    "    MarkovChain,\n",
    "    Partition,\n",
    "    accept,\n",
    "    constraints,\n",
    "    updaters,\n",
    ")\n",
    "from gerrychain.metrics import efficiency_gap, mean_median, polsby_popper\n",
    "from gerrychain.proposals import recom, flip\n",
    "from gerrychain.updaters import cut_edges\n",
    "from gerrychain.tree import recursive_tree_part\n",
    "\n",
    "import tqdm"
   ]
  },
  {
   "cell_type": "code",
   "execution_count": 9,
   "metadata": {},
   "outputs": [],
   "source": [
    "unique_label = \"GEOID10\"\n",
    "pop_col = \"TOTPOP\"\n",
    "district_col = \"CD\"\n",
    "\n",
    "plot_path = \"./IA-shapefiles/IA_counties/IA_counties.shp\"\n",
    "graph = Graph.from_json(\"iowa.json\")"
   ]
  },
  {
   "cell_type": "code",
   "execution_count": 10,
   "metadata": {},
   "outputs": [],
   "source": [
    "df = gpd.read_file(plot_path)"
   ]
  },
  {
   "cell_type": "code",
   "execution_count": 11,
   "metadata": {},
   "outputs": [],
   "source": [
    "def num_splits(partition):\n",
    "    df[\"current\"] = df[unique_label].map(dict(partition.assignment))\n",
    "    splits = sum(df.groupby(\"COUNTYFP10\")[\"current\"].nunique() > 1)\n",
    "    return splits"
   ]
  },
  {
   "cell_type": "code",
   "execution_count": 12,
   "metadata": {},
   "outputs": [],
   "source": [
    "updaters = {\n",
    "    \"population\": updaters.Tally(\"TOTPOP\", alias=\"population\"),\n",
    "    \"cut_edges\": cut_edges, \"black_pop\": updaters.Tally(\"BPOP\", alias = \"black_pop\"),\n",
    "    \"nh_white\": updaters.Tally(\"NH_WHITE\", alias = \"nh_white\"),\n",
    "    \"nh_black\": updaters.Tally(\"NH_BLACK\", alias = \"nh_black\"),\n",
    "    \"hisp\": updaters.Tally(\"HISP\", alias = \"hisp\"),\n",
    "    \"vap\": updaters.Tally(\"VAP\", alias = \"vap\"),\n",
    "    \"hvap\": updaters.Tally(\"HVAP\", alias = \"hvap\"),\n",
    "    \"wvap\": updaters.Tally(\"WVAP\", alias = \"wvap\"),\n",
    "    \"bvap\":updaters.Tally(\"BVAP\", alias = \"bvap\")\n",
    "}"
   ]
  },
  {
   "cell_type": "code",
   "execution_count": 13,
   "metadata": {},
   "outputs": [],
   "source": [
    "initial_partition = Partition(graph, \"CD\", updaters)"
   ]
  },
  {
   "cell_type": "code",
   "execution_count": 14,
   "metadata": {},
   "outputs": [],
   "source": [
    "ideal_population = sum(initial_partition[\"population\"].values()) / len(\n",
    "    initial_partition)"
   ]
  },
  {
   "cell_type": "code",
   "execution_count": 15,
   "metadata": {},
   "outputs": [],
   "source": [
    "proposal = partial(\n",
    "    recom, pop_col=\"TOTPOP\", pop_target=ideal_population, epsilon=0.02, node_repeats=2\n",
    ")"
   ]
  },
  {
   "cell_type": "code",
   "execution_count": 16,
   "metadata": {},
   "outputs": [],
   "source": [
    "def cut_length(partition):\n",
    "    return len(partition[\"cut_edges\"])\n",
    "\n",
    "compactness_bound = constraints.UpperBound(\n",
    "    cut_length, 2 * cut_length(initial_partition)\n",
    ")"
   ]
  },
  {
   "cell_type": "code",
   "execution_count": 1,
   "metadata": {},
   "outputs": [
    {
     "ename": "NameError",
     "evalue": "name 'MarkovChain' is not defined",
     "output_type": "error",
     "traceback": [
      "\u001b[0;31m---------------------------------------------------------------------------\u001b[0m",
      "\u001b[0;31mNameError\u001b[0m                                 Traceback (most recent call last)",
      "\u001b[0;32m<ipython-input-1-441f2ae3b2e6>\u001b[0m in \u001b[0;36m<module>\u001b[0;34m\u001b[0m\n\u001b[1;32m      1\u001b[0m \u001b[0mchain_length\u001b[0m \u001b[0;34m=\u001b[0m \u001b[0;36m2\u001b[0m\u001b[0;34m\u001b[0m\u001b[0;34m\u001b[0m\u001b[0m\n\u001b[1;32m      2\u001b[0m \u001b[0;34m\u001b[0m\u001b[0m\n\u001b[0;32m----> 3\u001b[0;31m chain = MarkovChain(\n\u001b[0m\u001b[1;32m      4\u001b[0m     \u001b[0mproposal\u001b[0m\u001b[0;34m=\u001b[0m\u001b[0mproposal\u001b[0m\u001b[0;34m,\u001b[0m\u001b[0;34m\u001b[0m\u001b[0;34m\u001b[0m\u001b[0m\n\u001b[1;32m      5\u001b[0m     constraints=[\n",
      "\u001b[0;31mNameError\u001b[0m: name 'MarkovChain' is not defined"
     ]
    }
   ],
   "source": [
    "chain_length = 2\n",
    "\n",
    "chain = MarkovChain(\n",
    "    proposal=proposal,\n",
    "    constraints=[\n",
    "        constraints.within_percent_of_ideal_population(initial_partition, 0.02),\n",
    "        compactness_bound # single_flip_contiguous#no_more_discontiguous\n",
    "    ],\n",
    "    accept=accept.always_accept,\n",
    "    initial_state=initial_partition,\n",
    "    total_steps=chain_length,\n",
    ")\n",
    "\n",
    "pop = []\n",
    "cut_edges = []\n",
    "nh_white = []\n",
    "nh_black = []\n",
    "hisp = []\n",
    "vap = []\n",
    "hvap = []\n",
    "wvap = []\n",
    "bvap = []\n",
    "splits = []\n",
    "pop_metrics = {}\n",
    "\n",
    "t = 0\n",
    "for part in chain.with_progress_bar():\n",
    "    splits.append(num_splits(part))\n",
    "    pop.append(list(part[\"population\"].values()))\n",
    "    cut_edges.append(len(part[\"cut_edges\"]))\n",
    "    nh_white.append(list(part[\"nh_white\"].values()))\n",
    "    nh_black.append(list(part[\"nh_black\"].values()))\n",
    "    hisp.append(list(part[\"hisp\"].values()))\n",
    "    vap.append(list(part[\"vap\"].values()))\n",
    "    hvap.append(list(part[\"hvap\"].values()))\n",
    "    wvap.append(list(part[\"wvap\"].values()))\n",
    "    bvap.append(list(part[\"bvap\"].values()))\n",
    "    pop_metrics.update([(\"nh_white_pct\", np.divide(nh_white,pop)), (\"nh_black_pct\",np.divide(nh_black, pop)), (\"hisp_pct\",np.divide(hisp, pop)), (\"hvap_pct\", np.divide(hvap, vap)), (\"wvap_pct\", np.divide(wvap, vap)), (\"bvap_pct\", np.divide(bvap, vap))])\n",
    "    t += 1"
   ]
  },
  {
   "cell_type": "code",
   "execution_count": 85,
   "metadata": {},
   "outputs": [],
   "source": [
    "num_dist = 4\n",
    "ideal_population = sum(initial_partition[\"population\"].values()) / len(\n",
    "    initial_partition)\n",
    "random_plan = recursive_tree_part(graph, range(num_dist), ideal_population, \"TOTPOP\", 0.001, 1)\n",
    "base_partition = Partition(graph, random_plan, updaters)\n",
    "random_plan_2 = recursive_tree_part(graph, range(num_dist), ideal_population, \"TOTPOP\", 0.001, 1)\n",
    "new_partition = Partition(graph, random_plan_2, updaters)"
   ]
  },
  {
   "cell_type": "code",
   "execution_count": 138,
   "metadata": {},
   "outputs": [],
   "source": [
    "def greedy_hamming(base_partition, new_partition):\n",
    "    names = [j for j in range(len(base_partition))]\n",
    "    new_names = {}\n",
    "    for i in range(num_dist):\n",
    "        intersection_sizes = {}\n",
    "        for name in names:\n",
    "            intersection_sizes.update({len(set(base_partition.assignment.parts[name]).intersection(set(new_partition.assignment.parts[i]))): name})\n",
    "        new_names.update({i: intersection_sizes[max(intersection_sizes.keys())]})\n",
    "        names.remove(intersection_sizes[max(intersection_sizes.keys())])\n",
    "    return new_names"
   ]
  },
  {
   "cell_type": "code",
   "execution_count": 123,
   "metadata": {},
   "outputs": [],
   "source": [
    "def greedy_hamming_pop(base_partition, new_partition):\n",
    "    names = [j for j in range(len(base_partition))]\n",
    "    new_names = {}\n",
    "    for i in range(len(base_partition)):\n",
    "        intersections = {}\n",
    "        intersection_pops = {}\n",
    "        for name in names:\n",
    "            intersections.update({name: set(base_partition.assignment.parts[name]).intersection(set(new_partition.assignment.parts[i]))})\n",
    "            intersection_pops.update({sum([new_partition.graph.nodes[node][\"TOTPOP\"] for node in intersections[name]]): name})\n",
    "        new_names.update({i: intersection_pops[max(intersection_pops.keys())]})\n",
    "        names.remove(intersection_pops[max(intersection_pops.keys())])\n",
    "    return new_names"
   ]
  },
  {
   "cell_type": "code",
   "execution_count": 139,
   "metadata": {},
   "outputs": [
    {
     "data": {
      "text/plain": [
       "{0: 3, 1: 0, 2: 2, 3: 1}"
      ]
     },
     "execution_count": 139,
     "metadata": {},
     "output_type": "execute_result"
    }
   ],
   "source": [
    "greedy_hamming(base_partition, new_partition)"
   ]
  },
  {
   "cell_type": "code",
   "execution_count": 115,
   "metadata": {},
   "outputs": [
    {
     "data": {
      "text/plain": [
       "<matplotlib.axes._subplots.AxesSubplot at 0x124dbd748>"
      ]
     },
     "execution_count": 115,
     "metadata": {},
     "output_type": "execute_result"
    },
    {
     "data": {
      "image/png": "[encoded data removed]",
      "text/plain": [
       "<Figure size 432x288 with 1 Axes>"
      ]
     },
     "metadata": {
      "needs_background": "light"
     },
     "output_type": "display_data"
    }
   ],
   "source": [
    "base_partition.plot(df, cmap = \"tab20\")"
   ]
  },
  {
   "cell_type": "code",
   "execution_count": 116,
   "metadata": {},
   "outputs": [
    {
     "data": {
      "text/plain": [
       "<matplotlib.axes._subplots.AxesSubplot at 0x1250aad68>"
      ]
     },
     "execution_count": 116,
     "metadata": {},
     "output_type": "execute_result"
    },
    {
     "data": {
      "image/png": "[encoded data removed]",
      "text/plain": [
       "<Figure size 432x288 with 1 Axes>"
      ]
     },
     "metadata": {
      "needs_background": "light"
     },
     "output_type": "display_data"
    }
   ],
   "source": [
    "new_partition.plot(df, cmap = \"tab20\")"
   ]
  },
  {
   "cell_type": "code",
   "execution_count": 119,
   "metadata": {},
   "outputs": [
    {
     "data": {
      "text/plain": [
       "42745"
      ]
     },
     "execution_count": 119,
     "metadata": {},
     "output_type": "execute_result"
    }
   ],
   "source": [
    "base_partition.graph.nodes[8][\"TOTPOP\"]"
   ]
  },
  {
   "cell_type": "code",
   "execution_count": 129,
   "metadata": {},
   "outputs": [
    {
     "data": {
      "text/plain": [
       "99"
      ]
     },
     "execution_count": 129,
     "metadata": {},
     "output_type": "execute_result"
    }
   ],
   "source": [
    "new_partition.graph.number_of_nodes()"
   ]
  },
  {
   "cell_type": "code",
   "execution_count": null,
   "metadata": {},
   "outputs": [],
   "source": []
  }
 ],
 "metadata": {
  "kernelspec": {
   "display_name": "Python 3",
   "language": "python",
   "name": "python3"
  },
  "language_info": {
   "codemirror_mode": {
    "name": "ipython",
    "version": 3
   },
   "file_extension": ".py",
   "mimetype": "text/x-python",
   "name": "python",
   "nbconvert_exporter": "python",
   "pygments_lexer": "ipython3",
   "version": "3.7.3"
  }
 },
 "nbformat": 4,
 "nbformat_minor": 2
}
