{
 "cells": [
  {
   "cell_type": "code",
   "execution_count": 94,
   "metadata": {},
   "outputs": [],
   "source": [
    "import csv\n",
    "import os\n",
    "from functools import partial\n",
    "import json\n",
    "\n",
    "import geopandas as gpd\n",
    "import pandas as pd\n",
    "import matplotlib.pyplot as plt\n",
    "import numpy as np\n",
    "\n",
    "from mpl_toolkits.mplot3d import Axes3D\n",
    "\n",
    "from gerrychain import (\n",
    "    Election,\n",
    "    Graph,\n",
    "    MarkovChain,\n",
    "    Partition,\n",
    "    accept,\n",
    "    constraints,\n",
    "    updaters,\n",
    ")\n",
    "from gerrychain.metrics import efficiency_gap, mean_median, polsby_popper\n",
    "from gerrychain.proposals import recom, flip\n",
    "from gerrychain.updaters import cut_edges\n",
    "\n",
    "import tqdm"
   ]
  },
  {
   "cell_type": "code",
   "execution_count": 95,
   "metadata": {},
   "outputs": [],
   "source": [
    "unique_label = \"GEOID10\"\n",
    "pop_col = \"TOTPOP\"\n",
    "district_col = \"CD\"\n",
    "\n",
    "plot_path = \"./IA-shapefiles/IA_counties/IA_counties.shp\"\n",
    "graph = Graph.from_json(\"iowa.json\")"
   ]
  },
  {
   "cell_type": "code",
   "execution_count": 96,
   "metadata": {},
   "outputs": [],
   "source": [
    "df = gpd.read_file(plot_path)"
   ]
  },
  {
   "cell_type": "code",
   "execution_count": 97,
   "metadata": {},
   "outputs": [],
   "source": [
    "def num_splits(partition):\n",
    "    df[\"current\"] = df[unique_label].map(dict(partition.assignment))\n",
    "    splits = sum(df.groupby(\"COUNTYFP10\")[\"current\"].nunique() > 1)\n",
    "    return splits"
   ]
  },
  {
   "cell_type": "code",
   "execution_count": 98,
   "metadata": {},
   "outputs": [],
   "source": [
    "updaters = {\n",
    "    \"population\": updaters.Tally(\"TOTPOP\", alias=\"population\"),\n",
    "    \"cut_edges\": cut_edges, \"black_pop\": updaters.Tally(\"BPOP\", alias = \"black_pop\"),\n",
    "    \"nh_white\": updaters.Tally(\"NH_WHITE\", alias = \"nh_white\"),\n",
    "    \"nh_black\": updaters.Tally(\"NH_BLACK\", alias = \"nh_black\"),\n",
    "    \"hisp\": updaters.Tally(\"HISP\", alias = \"hisp\"),\n",
    "    \"vap\": updaters.Tally(\"VAP\", alias = \"vap\"),\n",
    "    \"hvap\": updaters.Tally(\"HVAP\", alias = \"hvap\"),\n",
    "    \"wvap\": updaters.Tally(\"WVAP\", alias = \"wvap\"),\n",
    "    \"bvap\":updaters.Tally(\"BVAP\", alias = \"bvap\")\n",
    "}"
   ]
  },
  {
   "cell_type": "code",
   "execution_count": 99,
   "metadata": {},
   "outputs": [],
   "source": [
    "initial_partition = Partition(graph, \"CD\", updaters)"
   ]
  },
  {
   "cell_type": "code",
   "execution_count": 100,
   "metadata": {},
   "outputs": [],
   "source": [
    "ideal_population = sum(initial_partition[\"population\"].values()) / len(\n",
    "    initial_partition)"
   ]
  },
  {
   "cell_type": "code",
   "execution_count": 101,
   "metadata": {},
   "outputs": [],
   "source": [
    "proposal = partial(\n",
    "    recom, pop_col=\"TOTPOP\", pop_target=ideal_population, epsilon=0.02, node_repeats=2\n",
    ")"
   ]
  },
  {
   "cell_type": "code",
   "execution_count": 102,
   "metadata": {},
   "outputs": [],
   "source": [
    "def cut_length(partition):\n",
    "    return len(partition[\"cut_edges\"])\n",
    "\n",
    "compactness_bound = constraints.UpperBound(\n",
    "    cut_length, 2 * cut_length(initial_partition)\n",
    ")"
   ]
  },
  {
   "cell_type": "code",
   "execution_count": 207,
   "metadata": {},
   "outputs": [
    {
     "data": {
      "application/vnd.jupyter.widget-view+json": {
       "model_id": "483f11425ca44ded9dd7244430f775f5",
       "version_major": 2,
       "version_minor": 0
      },
      "text/plain": [
       "HBox(children=(IntProgress(value=0, max=20000), HTML(value='')))"
      ]
     },
     "metadata": {},
     "output_type": "display_data"
    }
   ],
   "source": [
    "chain_length = 20000\n",
    "\n",
    "chain = MarkovChain(\n",
    "    proposal=proposal,\n",
    "    constraints=[\n",
    "        constraints.within_percent_of_ideal_population(initial_partition, 0.02),\n",
    "        compactness_bound # single_flip_contiguous#no_more_discontiguous\n",
    "    ],\n",
    "    accept=accept.always_accept,\n",
    "    initial_state=initial_partition,\n",
    "    total_steps=chain_length,\n",
    ")\n",
    "\n",
    "pop = []\n",
    "cut_edges = []\n",
    "nh_white = []\n",
    "nh_black = []\n",
    "hisp = []\n",
    "vap = []\n",
    "hvap = []\n",
    "wvap = []\n",
    "bvap = []\n",
    "splits = []\n",
    "pop_metrics = {}\n",
    "\n",
    "t = 0\n",
    "for part in chain.with_progress_bar():\n",
    "    splits.append(num_splits(part))\n",
    "    pop.append(list(part[\"population\"].values()))\n",
    "    cut_edges.append(len(part[\"cut_edges\"]))\n",
    "    nh_white.append(list(part[\"nh_white\"].values()))\n",
    "    nh_black.append(list(part[\"nh_black\"].values()))\n",
    "    hisp.append(list(part[\"hisp\"].values()))\n",
    "    vap.append(list(part[\"vap\"].values()))\n",
    "    hvap.append(list(part[\"hvap\"].values()))\n",
    "    wvap.append(list(part[\"wvap\"].values()))\n",
    "    bvap.append(list(part[\"bvap\"].values()))\n",
    "    pop_metrics.update([(\"nh_white_pct\", np.divide(nh_white,pop)), (\"nh_black_pct\",np.divide(nh_black, pop)), (\"hisp_pct\",np.divide(hisp, pop)), (\"hvap_pct\", np.divide(hvap, vap)), (\"wvap_pct\", np.divide(wvap, vap)), (\"bvap_pct\", np.divide(bvap, vap))])\n",
    "    t += 1"
   ]
  },
  {
   "cell_type": "code",
   "execution_count": 208,
   "metadata": {},
   "outputs": [],
   "source": [
    "dists = [[pop_metrics[\"nh_white_pct\"][j][i] for j in range(chain_length)] for i in range(4)]"
   ]
  },
  {
   "cell_type": "code",
   "execution_count": 209,
   "metadata": {},
   "outputs": [],
   "source": [
    "means = [np.mean(dists[i]) for i in range(4)]"
   ]
  },
  {
   "cell_type": "code",
   "execution_count": 210,
   "metadata": {},
   "outputs": [],
   "source": [
    "centered = []\n",
    "for i in range(4):\n",
    "    centered.append(np.subtract(dists[i], [means[i] for j in range(chain_length)]))"
   ]
  },
  {
   "cell_type": "code",
   "execution_count": 211,
   "metadata": {},
   "outputs": [
    {
     "data": {
      "text/plain": [
       "[array([ 0.0191752 ,  0.0191752 ,  0.01232089, ..., -0.00091846,\n",
       "         0.0181783 ,  0.00744987]),\n",
       " array([ 0.01375332, -0.02909813, -0.02909813, ...,  0.00785132,\n",
       "        -0.01138572, -0.00043748]),\n",
       " array([-0.02748084,  0.01580662,  0.01580662, ..., -0.02673731,\n",
       "        -0.02673731, -0.02673731]),\n",
       " array([-0.00541553, -0.00541553,  0.00160446, ...,  0.02003943,\n",
       "         0.02003943,  0.02003943])]"
      ]
     },
     "execution_count": 211,
     "metadata": {},
     "output_type": "execute_result"
    }
   ],
   "source": [
    "centered"
   ]
  },
  {
   "cell_type": "code",
   "execution_count": 212,
   "metadata": {},
   "outputs": [],
   "source": [
    "from sklearn.decomposition import PCA\n",
    "pca = PCA(n_components=2)\n",
    "principalComponents = pca.fit_transform([[centered[i][j] for i in range(4)] for j in range(chain_length)])\n",
    "principalDf = pd.DataFrame(data = principalComponents\n",
    "            , columns = ['principal component 1', 'principal component 2'])"
   ]
  },
  {
   "cell_type": "code",
   "execution_count": 213,
   "metadata": {},
   "outputs": [
    {
     "data": {
      "text/html": [
       "<div>\n",
       "<style scoped>\n",
       "    .dataframe tbody tr th:only-of-type {\n",
       "        vertical-align: middle;\n",
       "    }\n",
       "\n",
       "    .dataframe tbody tr th {\n",
       "        vertical-align: top;\n",
       "    }\n",
       "\n",
       "    .dataframe thead th {\n",
       "        text-align: right;\n",
       "    }\n",
       "</style>\n",
       "<table border=\"1\" class=\"dataframe\">\n",
       "  <thead>\n",
       "    <tr style=\"text-align: right;\">\n",
       "      <th></th>\n",
       "      <th>principal component 1</th>\n",
       "      <th>principal component 2</th>\n",
       "    </tr>\n",
       "  </thead>\n",
       "  <tbody>\n",
       "    <tr>\n",
       "      <th>0</th>\n",
       "      <td>-0.032249</td>\n",
       "      <td>-0.015410</td>\n",
       "    </tr>\n",
       "    <tr>\n",
       "      <th>1</th>\n",
       "      <td>0.027400</td>\n",
       "      <td>-0.026991</td>\n",
       "    </tr>\n",
       "    <tr>\n",
       "      <th>2</th>\n",
       "      <td>0.027949</td>\n",
       "      <td>-0.021266</td>\n",
       "    </tr>\n",
       "    <tr>\n",
       "      <th>3</th>\n",
       "      <td>0.029884</td>\n",
       "      <td>-0.001811</td>\n",
       "    </tr>\n",
       "    <tr>\n",
       "      <th>4</th>\n",
       "      <td>0.027031</td>\n",
       "      <td>-0.001401</td>\n",
       "    </tr>\n",
       "    <tr>\n",
       "      <th>5</th>\n",
       "      <td>0.036782</td>\n",
       "      <td>0.001242</td>\n",
       "    </tr>\n",
       "    <tr>\n",
       "      <th>6</th>\n",
       "      <td>0.031539</td>\n",
       "      <td>-0.005125</td>\n",
       "    </tr>\n",
       "    <tr>\n",
       "      <th>7</th>\n",
       "      <td>0.020212</td>\n",
       "      <td>-0.018039</td>\n",
       "    </tr>\n",
       "    <tr>\n",
       "      <th>8</th>\n",
       "      <td>-0.001989</td>\n",
       "      <td>0.002846</td>\n",
       "    </tr>\n",
       "    <tr>\n",
       "      <th>9</th>\n",
       "      <td>-0.012285</td>\n",
       "      <td>-0.009037</td>\n",
       "    </tr>\n",
       "    <tr>\n",
       "      <th>10</th>\n",
       "      <td>-0.032988</td>\n",
       "      <td>-0.014639</td>\n",
       "    </tr>\n",
       "    <tr>\n",
       "      <th>11</th>\n",
       "      <td>-0.039667</td>\n",
       "      <td>0.004665</td>\n",
       "    </tr>\n",
       "    <tr>\n",
       "      <th>12</th>\n",
       "      <td>-0.018474</td>\n",
       "      <td>0.010392</td>\n",
       "    </tr>\n",
       "    <tr>\n",
       "      <th>13</th>\n",
       "      <td>-0.007477</td>\n",
       "      <td>-0.022003</td>\n",
       "    </tr>\n",
       "    <tr>\n",
       "      <th>14</th>\n",
       "      <td>0.018976</td>\n",
       "      <td>-0.046883</td>\n",
       "    </tr>\n",
       "    <tr>\n",
       "      <th>15</th>\n",
       "      <td>0.018125</td>\n",
       "      <td>-0.046107</td>\n",
       "    </tr>\n",
       "    <tr>\n",
       "      <th>16</th>\n",
       "      <td>-0.013269</td>\n",
       "      <td>-0.016565</td>\n",
       "    </tr>\n",
       "    <tr>\n",
       "      <th>17</th>\n",
       "      <td>-0.013192</td>\n",
       "      <td>-0.016658</td>\n",
       "    </tr>\n",
       "    <tr>\n",
       "      <th>18</th>\n",
       "      <td>0.019412</td>\n",
       "      <td>-0.047260</td>\n",
       "    </tr>\n",
       "    <tr>\n",
       "      <th>19</th>\n",
       "      <td>0.018643</td>\n",
       "      <td>-0.047980</td>\n",
       "    </tr>\n",
       "    <tr>\n",
       "      <th>20</th>\n",
       "      <td>-0.014271</td>\n",
       "      <td>-0.017061</td>\n",
       "    </tr>\n",
       "    <tr>\n",
       "      <th>21</th>\n",
       "      <td>-0.013382</td>\n",
       "      <td>-0.008019</td>\n",
       "    </tr>\n",
       "    <tr>\n",
       "      <th>22</th>\n",
       "      <td>0.008059</td>\n",
       "      <td>-0.028203</td>\n",
       "    </tr>\n",
       "    <tr>\n",
       "      <th>23</th>\n",
       "      <td>0.013436</td>\n",
       "      <td>-0.022079</td>\n",
       "    </tr>\n",
       "    <tr>\n",
       "      <th>24</th>\n",
       "      <td>0.020758</td>\n",
       "      <td>-0.020099</td>\n",
       "    </tr>\n",
       "    <tr>\n",
       "      <th>25</th>\n",
       "      <td>-0.026429</td>\n",
       "      <td>-0.010826</td>\n",
       "    </tr>\n",
       "    <tr>\n",
       "      <th>26</th>\n",
       "      <td>-0.026572</td>\n",
       "      <td>-0.010693</td>\n",
       "    </tr>\n",
       "    <tr>\n",
       "      <th>27</th>\n",
       "      <td>-0.027132</td>\n",
       "      <td>-0.010160</td>\n",
       "    </tr>\n",
       "    <tr>\n",
       "      <th>28</th>\n",
       "      <td>-0.027131</td>\n",
       "      <td>-0.010037</td>\n",
       "    </tr>\n",
       "    <tr>\n",
       "      <th>29</th>\n",
       "      <td>-0.026328</td>\n",
       "      <td>-0.001729</td>\n",
       "    </tr>\n",
       "    <tr>\n",
       "      <th>...</th>\n",
       "      <td>...</td>\n",
       "      <td>...</td>\n",
       "    </tr>\n",
       "    <tr>\n",
       "      <th>19970</th>\n",
       "      <td>0.006450</td>\n",
       "      <td>-0.004685</td>\n",
       "    </tr>\n",
       "    <tr>\n",
       "      <th>19971</th>\n",
       "      <td>0.011118</td>\n",
       "      <td>0.042800</td>\n",
       "    </tr>\n",
       "    <tr>\n",
       "      <th>19972</th>\n",
       "      <td>0.005840</td>\n",
       "      <td>-0.010758</td>\n",
       "    </tr>\n",
       "    <tr>\n",
       "      <th>19973</th>\n",
       "      <td>0.034853</td>\n",
       "      <td>-0.016352</td>\n",
       "    </tr>\n",
       "    <tr>\n",
       "      <th>19974</th>\n",
       "      <td>-0.024659</td>\n",
       "      <td>-0.032501</td>\n",
       "    </tr>\n",
       "    <tr>\n",
       "      <th>19975</th>\n",
       "      <td>-0.044156</td>\n",
       "      <td>-0.014159</td>\n",
       "    </tr>\n",
       "    <tr>\n",
       "      <th>19976</th>\n",
       "      <td>0.049280</td>\n",
       "      <td>-0.032781</td>\n",
       "    </tr>\n",
       "    <tr>\n",
       "      <th>19977</th>\n",
       "      <td>0.034302</td>\n",
       "      <td>-0.036821</td>\n",
       "    </tr>\n",
       "    <tr>\n",
       "      <th>19978</th>\n",
       "      <td>0.035564</td>\n",
       "      <td>-0.037981</td>\n",
       "    </tr>\n",
       "    <tr>\n",
       "      <th>19979</th>\n",
       "      <td>0.032766</td>\n",
       "      <td>-0.036947</td>\n",
       "    </tr>\n",
       "    <tr>\n",
       "      <th>19980</th>\n",
       "      <td>0.047605</td>\n",
       "      <td>-0.032907</td>\n",
       "    </tr>\n",
       "    <tr>\n",
       "      <th>19981</th>\n",
       "      <td>-0.054714</td>\n",
       "      <td>-0.012868</td>\n",
       "    </tr>\n",
       "    <tr>\n",
       "      <th>19982</th>\n",
       "      <td>-0.036573</td>\n",
       "      <td>0.008013</td>\n",
       "    </tr>\n",
       "    <tr>\n",
       "      <th>19983</th>\n",
       "      <td>-0.033009</td>\n",
       "      <td>-0.002110</td>\n",
       "    </tr>\n",
       "    <tr>\n",
       "      <th>19984</th>\n",
       "      <td>-0.030849</td>\n",
       "      <td>-0.002538</td>\n",
       "    </tr>\n",
       "    <tr>\n",
       "      <th>19985</th>\n",
       "      <td>-0.030849</td>\n",
       "      <td>-0.002538</td>\n",
       "    </tr>\n",
       "    <tr>\n",
       "      <th>19986</th>\n",
       "      <td>-0.031098</td>\n",
       "      <td>-0.005012</td>\n",
       "    </tr>\n",
       "    <tr>\n",
       "      <th>19987</th>\n",
       "      <td>-0.024956</td>\n",
       "      <td>-0.022786</td>\n",
       "    </tr>\n",
       "    <tr>\n",
       "      <th>19988</th>\n",
       "      <td>0.017676</td>\n",
       "      <td>0.025198</td>\n",
       "    </tr>\n",
       "    <tr>\n",
       "      <th>19989</th>\n",
       "      <td>0.033133</td>\n",
       "      <td>-0.019912</td>\n",
       "    </tr>\n",
       "    <tr>\n",
       "      <th>19990</th>\n",
       "      <td>0.025858</td>\n",
       "      <td>-0.028238</td>\n",
       "    </tr>\n",
       "    <tr>\n",
       "      <th>19991</th>\n",
       "      <td>0.028244</td>\n",
       "      <td>-0.003986</td>\n",
       "    </tr>\n",
       "    <tr>\n",
       "      <th>19992</th>\n",
       "      <td>0.026707</td>\n",
       "      <td>-0.019705</td>\n",
       "    </tr>\n",
       "    <tr>\n",
       "      <th>19993</th>\n",
       "      <td>0.014916</td>\n",
       "      <td>-0.008619</td>\n",
       "    </tr>\n",
       "    <tr>\n",
       "      <th>19994</th>\n",
       "      <td>0.009554</td>\n",
       "      <td>0.007518</td>\n",
       "    </tr>\n",
       "    <tr>\n",
       "      <th>19995</th>\n",
       "      <td>-0.028209</td>\n",
       "      <td>-0.002718</td>\n",
       "    </tr>\n",
       "    <tr>\n",
       "      <th>19996</th>\n",
       "      <td>-0.026836</td>\n",
       "      <td>-0.001431</td>\n",
       "    </tr>\n",
       "    <tr>\n",
       "      <th>19997</th>\n",
       "      <td>-0.026836</td>\n",
       "      <td>-0.001431</td>\n",
       "    </tr>\n",
       "    <tr>\n",
       "      <th>19998</th>\n",
       "      <td>-0.018088</td>\n",
       "      <td>-0.027050</td>\n",
       "    </tr>\n",
       "    <tr>\n",
       "      <th>19999</th>\n",
       "      <td>-0.023086</td>\n",
       "      <td>-0.012583</td>\n",
       "    </tr>\n",
       "  </tbody>\n",
       "</table>\n",
       "<p>20000 rows × 2 columns</p>\n",
       "</div>"
      ],
      "text/plain": [
       "       principal component 1  principal component 2\n",
       "0                  -0.032249              -0.015410\n",
       "1                   0.027400              -0.026991\n",
       "2                   0.027949              -0.021266\n",
       "3                   0.029884              -0.001811\n",
       "4                   0.027031              -0.001401\n",
       "5                   0.036782               0.001242\n",
       "6                   0.031539              -0.005125\n",
       "7                   0.020212              -0.018039\n",
       "8                  -0.001989               0.002846\n",
       "9                  -0.012285              -0.009037\n",
       "10                 -0.032988              -0.014639\n",
       "11                 -0.039667               0.004665\n",
       "12                 -0.018474               0.010392\n",
       "13                 -0.007477              -0.022003\n",
       "14                  0.018976              -0.046883\n",
       "15                  0.018125              -0.046107\n",
       "16                 -0.013269              -0.016565\n",
       "17                 -0.013192              -0.016658\n",
       "18                  0.019412              -0.047260\n",
       "19                  0.018643              -0.047980\n",
       "20                 -0.014271              -0.017061\n",
       "21                 -0.013382              -0.008019\n",
       "22                  0.008059              -0.028203\n",
       "23                  0.013436              -0.022079\n",
       "24                  0.020758              -0.020099\n",
       "25                 -0.026429              -0.010826\n",
       "26                 -0.026572              -0.010693\n",
       "27                 -0.027132              -0.010160\n",
       "28                 -0.027131              -0.010037\n",
       "29                 -0.026328              -0.001729\n",
       "...                      ...                    ...\n",
       "19970               0.006450              -0.004685\n",
       "19971               0.011118               0.042800\n",
       "19972               0.005840              -0.010758\n",
       "19973               0.034853              -0.016352\n",
       "19974              -0.024659              -0.032501\n",
       "19975              -0.044156              -0.014159\n",
       "19976               0.049280              -0.032781\n",
       "19977               0.034302              -0.036821\n",
       "19978               0.035564              -0.037981\n",
       "19979               0.032766              -0.036947\n",
       "19980               0.047605              -0.032907\n",
       "19981              -0.054714              -0.012868\n",
       "19982              -0.036573               0.008013\n",
       "19983              -0.033009              -0.002110\n",
       "19984              -0.030849              -0.002538\n",
       "19985              -0.030849              -0.002538\n",
       "19986              -0.031098              -0.005012\n",
       "19987              -0.024956              -0.022786\n",
       "19988               0.017676               0.025198\n",
       "19989               0.033133              -0.019912\n",
       "19990               0.025858              -0.028238\n",
       "19991               0.028244              -0.003986\n",
       "19992               0.026707              -0.019705\n",
       "19993               0.014916              -0.008619\n",
       "19994               0.009554               0.007518\n",
       "19995              -0.028209              -0.002718\n",
       "19996              -0.026836              -0.001431\n",
       "19997              -0.026836              -0.001431\n",
       "19998              -0.018088              -0.027050\n",
       "19999              -0.023086              -0.012583\n",
       "\n",
       "[20000 rows x 2 columns]"
      ]
     },
     "execution_count": 213,
     "metadata": {},
     "output_type": "execute_result"
    }
   ],
   "source": [
    "principalDf"
   ]
  },
  {
   "cell_type": "code",
   "execution_count": 214,
   "metadata": {},
   "outputs": [
    {
     "data": {
      "text/plain": [
       "[<matplotlib.lines.Line2D at 0x1196f8438>,\n",
       " <matplotlib.lines.Line2D at 0x1196f8588>]"
      ]
     },
     "execution_count": 214,
     "metadata": {},
     "output_type": "execute_result"
    },
    {
     "data": {
      "image/png": "[encoded data removed]",
      "text/plain": [
       "<Figure size 432x288 with 1 Axes>"
      ]
     },
     "metadata": {
      "needs_background": "light"
     },
     "output_type": "display_data"
    }
   ],
   "source": [
    "plt.plot(principalDf)"
   ]
  },
  {
   "cell_type": "code",
   "execution_count": 215,
   "metadata": {},
   "outputs": [
    {
     "data": {
      "text/plain": [
       "[<matplotlib.lines.Line2D at 0x11cba6dd8>]"
      ]
     },
     "execution_count": 215,
     "metadata": {},
     "output_type": "execute_result"
    },
    {
     "data": {
      "image/png": "[encoded data removed]",
      "text/plain": [
       "<Figure size 432x288 with 1 Axes>"
      ]
     },
     "metadata": {
      "needs_background": "light"
     },
     "output_type": "display_data"
    }
   ],
   "source": [
    "plt.plot([np.mean(pop_metrics[\"nh_white_pct\"][i]) for i in range(chain_length)])"
   ]
  },
  {
   "cell_type": "code",
   "execution_count": 221,
   "metadata": {},
   "outputs": [],
   "source": [
    "step_sizes = []\n",
    "for i in range(1, chain_length):\n",
    "    step_sizes.append(np.mean(pop_metrics[\"nh_white_pct\"][i]) - np.mean(pop_metrics[\"nh_white_pct\"][i-1]))"
   ]
  },
  {
   "cell_type": "code",
   "execution_count": 222,
   "metadata": {},
   "outputs": [
    {
     "data": {
      "text/plain": [
       "[<matplotlib.lines.Line2D at 0x11e81b550>]"
      ]
     },
     "execution_count": 222,
     "metadata": {},
     "output_type": "execute_result"
    },
    {
     "data": {
      "image/png": "[encoded data removed]",
      "text/plain": [
       "<Figure size 432x288 with 1 Axes>"
      ]
     },
     "metadata": {
      "needs_background": "light"
     },
     "output_type": "display_data"
    }
   ],
   "source": [
    "plt.plot(step_sizes)"
   ]
  },
  {
   "cell_type": "code",
   "execution_count": 217,
   "metadata": {},
   "outputs": [],
   "source": [
    "step_sizes_max = []\n",
    "for i in range(1, chain_length):\n",
    "    step_sizes_max.append(np.max(pop_metrics[\"nh_white_pct\"][i]) - np.max(pop_metrics[\"nh_white_pct\"][i-1]))"
   ]
  },
  {
   "cell_type": "code",
   "execution_count": 218,
   "metadata": {},
   "outputs": [
    {
     "data": {
      "text/plain": [
       "[<matplotlib.lines.Line2D at 0x11cf19fd0>]"
      ]
     },
     "execution_count": 218,
     "metadata": {},
     "output_type": "execute_result"
    },
    {
     "data": {
      "image/png": "[encoded data removed]",
      "text/plain": [
       "<Figure size 432x288 with 1 Axes>"
      ]
     },
     "metadata": {
      "needs_background": "light"
     },
     "output_type": "display_data"
    }
   ],
   "source": [
    "plt.plot(step_sizes_max)"
   ]
  },
  {
   "cell_type": "code",
   "execution_count": 219,
   "metadata": {},
   "outputs": [],
   "source": [
    "max_min = []\n",
    "for i in range(chain_length):\n",
    "    max_min.append(np.divide(np.min(pop_metrics[\"nh_white_pct\"][i]), np.max(pop_metrics[\"nh_white_pct\"][i])))"
   ]
  },
  {
   "cell_type": "code",
   "execution_count": 220,
   "metadata": {},
   "outputs": [
    {
     "data": {
      "text/plain": [
       "[<matplotlib.lines.Line2D at 0x11e64e780>]"
      ]
     },
     "execution_count": 220,
     "metadata": {},
     "output_type": "execute_result"
    },
    {
     "data": {
      "image/png": "[encoded data removed]",
      "text/plain": [
       "<Figure size 432x288 with 1 Axes>"
      ]
     },
     "metadata": {
      "needs_background": "light"
     },
     "output_type": "display_data"
    }
   ],
   "source": [
    "plt.plot(max_min)"
   ]
  },
  {
   "cell_type": "code",
   "execution_count": null,
   "metadata": {},
   "outputs": [],
   "source": []
  }
 ],
 "metadata": {
  "kernelspec": {
   "display_name": "Python 3",
   "language": "python",
   "name": "python3"
  },
  "language_info": {
   "codemirror_mode": {
    "name": "ipython",
    "version": 3
   },
   "file_extension": ".py",
   "mimetype": "text/x-python",
   "name": "python",
   "nbconvert_exporter": "python",
   "pygments_lexer": "ipython3",
   "version": "3.7.3"
  }
 },
 "nbformat": 4,
 "nbformat_minor": 2
}
